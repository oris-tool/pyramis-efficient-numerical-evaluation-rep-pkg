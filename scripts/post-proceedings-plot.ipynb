{
 "cells": [
  {
   "cell_type": "code",
   "execution_count": 2,
   "id": "33121f03",
   "metadata": {},
   "outputs": [
    {
     "ename": "ModuleNotFoundError",
     "evalue": "No module named 'numpy'",
     "output_type": "error",
     "traceback": [
      "\u001b[31m---------------------------------------------------------------------------\u001b[39m",
      "\u001b[31mModuleNotFoundError\u001b[39m                       Traceback (most recent call last)",
      "\u001b[36mCell\u001b[39m\u001b[36m \u001b[39m\u001b[32mIn[2]\u001b[39m\u001b[32m, line 2\u001b[39m\n\u001b[32m      1\u001b[39m \u001b[38;5;28;01mimport\u001b[39;00m\u001b[38;5;250m \u001b[39m\u001b[34;01mos\u001b[39;00m\n\u001b[32m----> \u001b[39m\u001b[32m2\u001b[39m \u001b[38;5;28;01mimport\u001b[39;00m\u001b[38;5;250m \u001b[39m\u001b[34;01mnumpy\u001b[39;00m\u001b[38;5;250m \u001b[39m\u001b[38;5;28;01mas\u001b[39;00m\u001b[38;5;250m \u001b[39m\u001b[34;01mnp\u001b[39;00m\n\u001b[32m      3\u001b[39m \u001b[38;5;28;01mimport\u001b[39;00m\u001b[38;5;250m \u001b[39m\u001b[34;01mmatplotlib\u001b[39;00m\u001b[34;01m.\u001b[39;00m\u001b[34;01mpyplot\u001b[39;00m\u001b[38;5;250m \u001b[39m\u001b[38;5;28;01mas\u001b[39;00m\u001b[38;5;250m \u001b[39m\u001b[34;01mplt\u001b[39;00m\n\u001b[32m      4\u001b[39m \u001b[38;5;28;01mimport\u001b[39;00m\u001b[38;5;250m \u001b[39m\u001b[34;01mpandas\u001b[39;00m\u001b[38;5;250m \u001b[39m\u001b[38;5;28;01mas\u001b[39;00m\u001b[38;5;250m \u001b[39m\u001b[34;01mpd\u001b[39;00m\n",
      "\u001b[31mModuleNotFoundError\u001b[39m: No module named 'numpy'"
     ]
    }
   ],
   "source": [
    "import os\n",
    "import numpy as np\n",
    "import matplotlib.pyplot as plt\n",
    "import pandas as pd\n",
    "import re\n",
    "import argparse"
   ]
  },
  {
   "cell_type": "code",
   "execution_count": null,
   "id": "cb5afdff",
   "metadata": {},
   "outputs": [],
   "source": [
    "\n",
    "def get_curve_label(filename):\n",
    "    patterns = {\n",
    "        r'.*GT.*': 'Ground truth',\n",
    "        r'^pyramisCDF.*?_ts(\\d+(?:\\.\\d+)?)\\.txt$': lambda m: f'Pyramis - time tick {m.group(1)}',\n",
    "    }\n",
    "    \n",
    "    for pattern, label_func in patterns.items():\n",
    "        match = re.match(pattern, filename)\n",
    "        if match:\n",
    "            if callable(label_func):\n",
    "                return label_func(match)\n",
    "            else:\n",
    "                return label_func\n",
    "    \n",
    "    return filename"
   ]
  },
  {
   "cell_type": "code",
   "execution_count": null,
   "id": "bf2dd84c",
   "metadata": {},
   "outputs": [],
   "source": [
    "\n",
    "def get_curve_style(filename):\n",
    "    if 'GT' in filename:\n",
    "        return {'color': 'black', 'linestyle': '--', 'linewidth': 2}  # nero tratteggiato\n",
    "    elif 'ts0.1' in filename:\n",
    "        return {'color': '#0077BB', 'linewidth': 2}     # blu intenso\n",
    "    elif 'ts0.2' in filename:\n",
    "        return {'color': '#009988', 'linewidth': 2}     # verde acqua\n",
    "    elif 'ts0.4' in filename:\n",
    "        return {'color': '#CC3311', 'linewidth': 2}     # rosso"
   ]
  },
  {
   "cell_type": "code",
   "execution_count": null,
   "id": "557971f6",
   "metadata": {},
   "outputs": [],
   "source": [
    "\n",
    "def load_cdf_data(filepath):\n",
    "    return pd.read_csv(filepath, delim_whitespace=True, header=None, names=['x', 'y'])"
   ]
  },
  {
   "cell_type": "code",
   "execution_count": null,
   "id": "85c226c4",
   "metadata": {},
   "outputs": [],
   "source": [
    "\n",
    "def plot_cdfs_from_folder(folder, parallelValue, seqValue, alternativeValue):\n",
    "    expID = f\"PAR{parallelValue}_SEQ{seqValue}_ALT{alternativeValue}\"\n",
    "    filenames = [ 'GT_'+ expID , 'pyramisCDF_' + expID + '_ts0.4.txt', 'pyramisCDF_' + expID +'_ts0.2.txt', 'pyramisCDF_' + expID +'_ts0.1.txt' ]\n",
    "    curves = []\n",
    "\n",
    "    plt.figure(figsize=(10, 6))\n",
    "    plt.rcParams.update({'font.size': 22})\n",
    "    plt.rc('axes', labelsize=22)\n",
    "    plt.rc('legend', fontsize=20)\n",
    "    plt.rc('xtick', labelsize=20)\n",
    "    plt.rc('ytick', labelsize=20)\n",
    "\n",
    "    global_max_x = 0\n",
    "    \n",
    "    # Prima passata: trova il massimo valore di x globale\n",
    "    for filename in filenames:\n",
    "        file_path = os.path.join(folder, filename)\n",
    "        if os.path.isfile(file_path):\n",
    "            df = load_cdf_data(file_path)\n",
    "            max_x = df['x'].max()\n",
    "            global_max_x = max(global_max_x, max_x)\n",
    "\n",
    "    # Seconda passata: plottaggio\n",
    "    for filename in filenames:\n",
    "        file_path = os.path.join(folder, filename)\n",
    "        if os.path.isfile(file_path):\n",
    "            df = load_cdf_data(file_path)\n",
    "            style = get_curve_style(filename)\n",
    "            curve = plt.plot(df['x'], df['y'],\n",
    "                           label=get_curve_label(filename), \n",
    "                           **style)\n",
    "            curves.append((curve[0], get_curve_label(filename)))\n",
    "\n",
    "    plt.xlim(0, global_max_x * 1.05)\n",
    "    plt.xlabel('time')\n",
    "    plt.ylabel('response time distribution')\n",
    "    plt.ylim(0, 1)\n",
    "    \n",
    "    handles, labels = zip(*curves)\n",
    "    plt.legend(handles, labels, loc='lower right')\n",
    "    plt.grid(True)\n",
    "    plt.tight_layout()\n",
    "\n",
    "    plt.savefig(os.path.join(folder, \"HCDF_comparison\" + expID + \".png\"))\n",
    "    plt.savefig(os.path.join(folder, \"HCDF_comparison\" + expID + \".pdf\"))\n",
    "    plt.close()"
   ]
  },
  {
   "cell_type": "code",
   "execution_count": null,
   "id": "c0f0ced9",
   "metadata": {},
   "outputs": [],
   "source": [
    "folder = \"/home/leonardo/sources/epew25/pyramis/results/20250822_103356\""
   ]
  },
  {
   "cell_type": "code",
   "execution_count": null,
   "id": "98bdbcdc",
   "metadata": {},
   "outputs": [],
   "source": [
    "combinations = []\n",
    "defaults = {'PAR': 2, 'SEQ': 1, 'ALT': 2}\n",
    "single_combinations = [2, 4, 8]\n"
   ]
  },
  {
   "cell_type": "code",
   "execution_count": null,
   "id": "5bda2e00",
   "metadata": {},
   "outputs": [
    {
     "name": "stderr",
     "output_type": "stream",
     "text": [
      "/tmp/ipykernel_40878/1833199343.py:34: UserWarning: Attempting to set identical low and high xlims makes transformation singular; automatically expanding.\n",
      "  plt.xlim(0, global_max_x * 1.05)\n"
     ]
    },
    {
     "ename": "ValueError",
     "evalue": "not enough values to unpack (expected 2, got 0)",
     "output_type": "error",
     "traceback": [
      "\u001b[31m---------------------------------------------------------------------------\u001b[39m",
      "\u001b[31mValueError\u001b[39m                                Traceback (most recent call last)",
      "\u001b[36mCell\u001b[39m\u001b[36m \u001b[39m\u001b[32mIn[11]\u001b[39m\u001b[32m, line 11\u001b[39m\n\u001b[32m      8\u001b[39m kwargs = defaults.copy()\n\u001b[32m      9\u001b[39m kwargs[param_name] = param_value\n\u001b[32m---> \u001b[39m\u001b[32m11\u001b[39m \u001b[43mplot_cdfs_from_folder\u001b[49m\u001b[43m(\u001b[49m\u001b[43mfolder\u001b[49m\u001b[43m,\u001b[49m\u001b[43m \u001b[49m\u001b[43mkwargs\u001b[49m\u001b[43m[\u001b[49m\u001b[33;43m'\u001b[39;49m\u001b[33;43mPAR\u001b[39;49m\u001b[33;43m'\u001b[39;49m\u001b[43m]\u001b[49m\u001b[43m,\u001b[49m\u001b[43m \u001b[49m\u001b[43mkwargs\u001b[49m\u001b[43m[\u001b[49m\u001b[33;43m'\u001b[39;49m\u001b[33;43mSEQ\u001b[39;49m\u001b[33;43m'\u001b[39;49m\u001b[43m]\u001b[49m\u001b[43m,\u001b[49m\u001b[43m \u001b[49m\u001b[43mkwargs\u001b[49m\u001b[43m[\u001b[49m\u001b[33;43m'\u001b[39;49m\u001b[33;43mALT\u001b[39;49m\u001b[33;43m'\u001b[39;49m\u001b[43m]\u001b[49m\u001b[43m)\u001b[49m\n",
      "\u001b[36mCell\u001b[39m\u001b[36m \u001b[39m\u001b[32mIn[8]\u001b[39m\u001b[32m, line 39\u001b[39m, in \u001b[36mplot_cdfs_from_folder\u001b[39m\u001b[34m(folder, parallelValue, seqValue, alternativeValue)\u001b[39m\n\u001b[32m     36\u001b[39m plt.ylabel(\u001b[33m'\u001b[39m\u001b[33mresponse time distribution\u001b[39m\u001b[33m'\u001b[39m)\n\u001b[32m     37\u001b[39m plt.ylim(\u001b[32m0\u001b[39m, \u001b[32m1\u001b[39m)\n\u001b[32m---> \u001b[39m\u001b[32m39\u001b[39m handles, labels = \u001b[38;5;28mzip\u001b[39m(*curves)\n\u001b[32m     40\u001b[39m plt.legend(handles, labels, loc=\u001b[33m'\u001b[39m\u001b[33mlower right\u001b[39m\u001b[33m'\u001b[39m)\n\u001b[32m     41\u001b[39m plt.grid(\u001b[38;5;28;01mTrue\u001b[39;00m)\n",
      "\u001b[31mValueError\u001b[39m: not enough values to unpack (expected 2, got 0)"
     ]
    },
    {
     "data": {
      "image/png": "[encoded data removed]",
      "text/plain": [
       "<Figure size 1000x600 with 1 Axes>"
      ]
     },
     "metadata": {},
     "output_type": "display_data"
    }
   ],
   "source": [
    "    for param in defaults.keys():\n",
    "        for value in single_combinations:\n",
    "            combinations.append((param, value))\n",
    "    \n",
    "    \n",
    "    # Execute Script\n",
    "    for i, (param_name, param_value) in enumerate(combinations, 1):\n",
    "        kwargs = defaults.copy()\n",
    "        kwargs[param_name] = param_value\n",
    "\n",
    "        plot_cdfs_from_folder(folder, kwargs['PAR'], kwargs['SEQ'], kwargs['ALT'])"
   ]
  }
 ],
 "metadata": {
  "kernelspec": {
   "display_name": "rep-pkg-venv",
   "language": "python",
   "name": "python3"
  },
  "language_info": {
   "codemirror_mode": {
    "name": "ipython",
    "version": 3
   },
   "file_extension": ".py",
   "mimetype": "text/x-python",
   "name": "python",
   "nbconvert_exporter": "python",
   "pygments_lexer": "ipython3",
   "version": "3.13.5"
  }
 },
 "nbformat": 4,
 "nbformat_minor": 5
}
